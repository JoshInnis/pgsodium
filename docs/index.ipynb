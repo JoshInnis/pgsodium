{
 "cells": [
  {
   "cell_type": "markdown",
   "id": "closing-field",
   "metadata": {},
   "source": [
    "# pgsodium User Guide"
   ]
  },
  {
   "cell_type": "markdown",
   "id": "black-orange",
   "metadata": {},
   "source": [
    "Introduction."
   ]
  },
  {
   "cell_type": "markdown",
   "id": "structured-maintenance",
   "metadata": {},
   "source": [
    "- Using pgsodium to Encrypt Data\n",
    "  - [Introduction](Introduction.md)\n",
    "  - [Configuration](Configuration.md)\n",
    "  - [Server Key Management](Server_Key_Management.md)\n",
    "  - [Transparent Column Encryption](Transparent_Column_Encryption.md)\n",
    "\n",
    "\n",
    "- SQL API to libsodium\n",
    "  - [Generating Random Data](Generating_Random_Data.md)\n",
    "  - [Hashing](Hashing.md)\n",
    "  - [Password Hashing](Password_Hashing.md)\n",
    "  - [Hash-Based Message Authentication Codes (HMAC)](HMAC.md)\n",
    "  - [Secret Key Cryptography](Secret_Key_Cryptograph.md)\n",
    "  - [Public Key Cryptography](Public_Key_Cryptograph.md)\n",
    "  - [Authenticated Encryption With Additional Data (AEAD)](Authenticated_Encryption_With_Additional_Data.md)\n",
    "  - [Key Derivation](Key_Derivation.md)\n",
    "  - [Key Exchange](Key_Exchange.md)\n",
    "  - [Signcryption](Signcryption.md)\n"
   ]
  }
 ],
 "metadata": {
  "kernelspec": {
   "display_name": "Python 3 (ipykernel)",
   "language": "python",
   "name": "python3"
  },
  "language_info": {
   "codemirror_mode": {
    "name": "ipython",
    "version": 3
   },
   "file_extension": ".py",
   "mimetype": "text/x-python",
   "name": "python",
   "nbconvert_exporter": "python",
   "pygments_lexer": "ipython3",
   "version": "3.9.2"
  }
 },
 "nbformat": 4,
 "nbformat_minor": 5
}
