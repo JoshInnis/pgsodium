{
 "cells": [
  {
   "cell_type": "markdown",
   "id": "311d3b0e-9a61-4e3e-a8ba-69b63f7f2679",
   "metadata": {},
   "source": [
    "# Configuration"
   ]
  },
  {
   "cell_type": "markdown",
   "id": "c3dc3b71-8fba-477d-a3b5-49234dc44b4c",
   "metadata": {},
   "source": [
    "pgsodium can be used in two ways:\n",
    "\n",
    "- either as a \"pure\" library extension with no server managed keys that you can load into your SQL session at any time with the `LOAD` command\n",
    "\n",
    "- \"preload\" mode where you place `pgsodium` in your postgres server's `shared_preload_libraries` configuration variable."
   ]
  }
 ],
 "metadata": {
  "kernelspec": {
   "display_name": "Python 3 (ipykernel)",
   "language": "python",
   "name": "python3"
  },
  "language_info": {
   "codemirror_mode": {
    "name": "ipython",
    "version": 3
   },
   "file_extension": ".py",
   "mimetype": "text/x-python",
   "name": "python",
   "nbconvert_exporter": "python",
   "pygments_lexer": "ipython3",
   "version": "3.9.2"
  }
 },
 "nbformat": 4,
 "nbformat_minor": 5
}
