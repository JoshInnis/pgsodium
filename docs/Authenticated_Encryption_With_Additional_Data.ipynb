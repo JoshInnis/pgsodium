{
 "cells": [
  {
   "cell_type": "markdown",
   "id": "cdf8b324-a154-44d0-a2e1-8f3a2fd3a387",
   "metadata": {},
   "source": [
    "# Authenticated Encryption with Associated Data"
   ]
  }
 ],
 "metadata": {
  "kernelspec": {
   "display_name": "Python 3 (ipykernel)",
   "language": "python",
   "name": "python3"
  },
  "language_info": {
   "codemirror_mode": {
    "name": "ipython",
    "version": 3
   },
   "file_extension": ".py",
   "mimetype": "text/x-python",
   "name": "python",
   "nbconvert_exporter": "python",
   "pygments_lexer": "ipython3",
   "version": "3.9.2"
  }
 },
 "nbformat": 4,
 "nbformat_minor": 5
}
