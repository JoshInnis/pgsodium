{
 "cells": [
  {
   "cell_type": "markdown",
   "id": "6d1c7394-6898-4552-91d2-7bf00c3b6348",
   "metadata": {},
   "source": [
    "# Transparent Column Encryption"
   ]
  },
  {
   "cell_type": "markdown",
   "id": "9a63fee6-388b-4a4b-a15e-2af094f247b5",
   "metadata": {},
   "source": [
    "Transparent Column Encryption (TCE) lets you encrypt a column for storage to disk.  This pattern is often called \"Encryption at Rest\".  The column is stored encrypted in the postgres database files, as well as log streams and database dumps. TCE uses [Server Key Management]() managed keys by ID.  "
   ]
  },
  {
   "cell_type": "code",
   "execution_count": 1,
   "id": "fd1f049d-1112-4398-91a7-b37be8157fc0",
   "metadata": {},
   "outputs": [],
   "source": [
    "%load_ext sql"
   ]
  },
  {
   "cell_type": "code",
   "execution_count": 2,
   "id": "79e2bbc3-987e-4ca8-a1f3-99f2cb080e77",
   "metadata": {},
   "outputs": [],
   "source": [
    "%config SqlMagic.feedback=False\n",
    "%config SqlMagic.displaycon=False\n",
    "%sql postgresql://postgres@/"
   ]
  },
  {
   "cell_type": "markdown",
   "id": "a67895d2-b601-4003-8f52-fcd561e043e2",
   "metadata": {},
   "source": [
    "To use TCE, first create the extension:"
   ]
  },
  {
   "cell_type": "code",
   "execution_count": 3,
   "id": "d1a813fe-5114-432c-9be8-4cd8eb526f30",
   "metadata": {},
   "outputs": [
    {
     "data": {
      "text/plain": [
       "[]"
      ]
     },
     "execution_count": 3,
     "metadata": {},
     "output_type": "execute_result"
    }
   ],
   "source": [
    "%sql CREATE EXTENSION IF NOT EXISTS pgsodium;"
   ]
  },
  {
   "cell_type": "markdown",
   "id": "7930afdd-4149-4f58-ae55-e6a1d5611935",
   "metadata": {},
   "source": [
    "## Encrypt Whole Column with One Key ID"
   ]
  },
  {
   "cell_type": "code",
   "execution_count": 4,
   "id": "1edd76bd-e030-4294-9317-aa3821b06524",
   "metadata": {},
   "outputs": [
    {
     "data": {
      "text/plain": [
       "[]"
      ]
     },
     "execution_count": 4,
     "metadata": {},
     "output_type": "execute_result"
    }
   ],
   "source": [
    "%%sql\n",
    "CREATE TABLE IF NOT EXISTS my_secrets (\n",
    "  secret text\n",
    ");\n",
    "TRUNCATE my_secrets;  -- so the notebook is repeatable with a new key each time"
   ]
  },
  {
   "cell_type": "code",
   "execution_count": 5,
   "id": "403b1e0c-ba33-42c0-9fd0-26057d8c01f5",
   "metadata": {},
   "outputs": [
    {
     "name": "stdout",
     "output_type": "stream",
     "text": [
      "The new key id is:  a7a0449c-0cf6-4563-ac76-934e08508a3d\n"
     ]
    }
   ],
   "source": [
    "key = %sql SELECT * FROM pgsodium.create_key();\n",
    "key = key[0][0]\n",
    "print('The new key id is: ', key)"
   ]
  },
  {
   "cell_type": "code",
   "execution_count": 6,
   "id": "d43cfe59-67af-4fd8-89a4-797fa1c53541",
   "metadata": {},
   "outputs": [
    {
     "name": "stdout",
     "output_type": "stream",
     "text": [
      "ENCRYPT WITH KEY ID a7a0449c-0cf6-4563-ac76-934e08508a3d\n"
     ]
    }
   ],
   "source": [
    "label = 'ENCRYPT WITH KEY ID ' + str(key)\n",
    "%sql SECURITY LABEL FOR pgsodium ON COLUMN my_secrets.secret IS :label;\n",
    "print(label)"
   ]
  },
  {
   "cell_type": "code",
   "execution_count": 7,
   "id": "ef730544-a2e6-40e4-b817-dc20993b2eb6",
   "metadata": {},
   "outputs": [
    {
     "data": {
      "text/plain": [
       "[]"
      ]
     },
     "execution_count": 7,
     "metadata": {},
     "output_type": "execute_result"
    }
   ],
   "source": [
    "%%sql\n",
    "INSERT INTO my_secrets (secret) VALUES ('sekert1'), ('1234567'), ('9999');"
   ]
  },
  {
   "cell_type": "code",
   "execution_count": 8,
   "id": "02a5f650-cec9-4cd7-a155-e7746e1a19d5",
   "metadata": {},
   "outputs": [
    {
     "data": {
      "text/html": [
       "<table>\n",
       "    <tr>\n",
       "        <th>secret</th>\n",
       "    </tr>\n",
       "    <tr>\n",
       "        <td>cflsdTEru3ieFMc+L8ywWcyWqQUHI8a04L37n26deRxMmY6WxnZl</td>\n",
       "    </tr>\n",
       "    <tr>\n",
       "        <td>+SLLU++WIxM34zMW/usqxNKr4p8+Oj4EkVzBv2WO/5qS9plvNkma</td>\n",
       "    </tr>\n",
       "    <tr>\n",
       "        <td>uMkNgXpvfce5DaMK98AEvXkK7xZQ8hEu5PSq9Vkz9SKq7e7N</td>\n",
       "    </tr>\n",
       "</table>"
      ],
      "text/plain": [
       "[('cflsdTEru3ieFMc+L8ywWcyWqQUHI8a04L37n26deRxMmY6WxnZl',),\n",
       " ('+SLLU++WIxM34zMW/usqxNKr4p8+Oj4EkVzBv2WO/5qS9plvNkma',),\n",
       " ('uMkNgXpvfce5DaMK98AEvXkK7xZQ8hEu5PSq9Vkz9SKq7e7N',)]"
      ]
     },
     "execution_count": 8,
     "metadata": {},
     "output_type": "execute_result"
    }
   ],
   "source": [
    "%%sql\n",
    "SELECT * FROM my_secrets;"
   ]
  },
  {
   "cell_type": "code",
   "execution_count": 9,
   "id": "efd140e5-6a8a-4a0c-aa16-06a4ce38725f",
   "metadata": {},
   "outputs": [
    {
     "data": {
      "text/html": [
       "<table>\n",
       "    <tr>\n",
       "        <th>secret</th>\n",
       "        <th>decrypted_secret</th>\n",
       "    </tr>\n",
       "    <tr>\n",
       "        <td>cflsdTEru3ieFMc+L8ywWcyWqQUHI8a04L37n26deRxMmY6WxnZl</td>\n",
       "        <td>sekert1</td>\n",
       "    </tr>\n",
       "    <tr>\n",
       "        <td>+SLLU++WIxM34zMW/usqxNKr4p8+Oj4EkVzBv2WO/5qS9plvNkma</td>\n",
       "        <td>1234567</td>\n",
       "    </tr>\n",
       "    <tr>\n",
       "        <td>uMkNgXpvfce5DaMK98AEvXkK7xZQ8hEu5PSq9Vkz9SKq7e7N</td>\n",
       "        <td>9999</td>\n",
       "    </tr>\n",
       "</table>"
      ],
      "text/plain": [
       "[('cflsdTEru3ieFMc+L8ywWcyWqQUHI8a04L37n26deRxMmY6WxnZl', 'sekert1'),\n",
       " ('+SLLU++WIxM34zMW/usqxNKr4p8+Oj4EkVzBv2WO/5qS9plvNkma', '1234567'),\n",
       " ('uMkNgXpvfce5DaMK98AEvXkK7xZQ8hEu5PSq9Vkz9SKq7e7N', '9999')]"
      ]
     },
     "execution_count": 9,
     "metadata": {},
     "output_type": "execute_result"
    }
   ],
   "source": [
    "%%sql\n",
    "SELECT * FROM decrypted_my_secrets;"
   ]
  }
 ],
 "metadata": {
  "kernelspec": {
   "display_name": "Python 3 (ipykernel)",
   "language": "python",
   "name": "python3"
  },
  "language_info": {
   "codemirror_mode": {
    "name": "ipython",
    "version": 3
   },
   "file_extension": ".py",
   "mimetype": "text/x-python",
   "name": "python",
   "nbconvert_exporter": "python",
   "pygments_lexer": "ipython3",
   "version": "3.9.2"
  }
 },
 "nbformat": 4,
 "nbformat_minor": 5
}
