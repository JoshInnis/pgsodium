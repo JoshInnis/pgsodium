{
 "cells": [
  {
   "cell_type": "markdown",
   "id": "6d1c7394-6898-4552-91d2-7bf00c3b6348",
   "metadata": {},
   "source": [
    "# Transparent Column Encryption"
   ]
  },
  {
   "cell_type": "markdown",
   "id": "9a63fee6-388b-4a4b-a15e-2af094f247b5",
   "metadata": {},
   "source": [
    "Transparent Column Encryption (TCE) lets you encrypt a column for storage to disk.  This pattern is often called \"Encryption at Rest\".  The column is stored encrypted in the postgres database files, as well as log streams and database dumps. TCE uses [Server Key Management]() managed keys by ID.  "
   ]
  },
  {
   "cell_type": "code",
   "execution_count": 1,
   "id": "fd1f049d-1112-4398-91a7-b37be8157fc0",
   "metadata": {
    "tags": []
   },
   "outputs": [],
   "source": [
    "%load_ext sql"
   ]
  },
  {
   "cell_type": "code",
   "execution_count": 2,
   "id": "79e2bbc3-987e-4ca8-a1f3-99f2cb080e77",
   "metadata": {
    "tags": []
   },
   "outputs": [],
   "source": [
    "%config SqlMagic.feedback=False\n",
    "%config SqlMagic.displaycon=False\n",
    "%sql postgresql://postgres@/"
   ]
  },
  {
   "cell_type": "markdown",
   "id": "a67895d2-b601-4003-8f52-fcd561e043e2",
   "metadata": {},
   "source": [
    "To use TCE, first create the extension:"
   ]
  },
  {
   "cell_type": "code",
   "execution_count": 3,
   "id": "d1a813fe-5114-432c-9be8-4cd8eb526f30",
   "metadata": {},
   "outputs": [
    {
     "data": {
      "text/plain": [
       "[]"
      ]
     },
     "execution_count": 3,
     "metadata": {},
     "output_type": "execute_result"
    }
   ],
   "source": [
    "%sql CREATE EXTENSION IF NOT EXISTS pgsodium;"
   ]
  },
  {
   "cell_type": "markdown",
   "id": "7930afdd-4149-4f58-ae55-e6a1d5611935",
   "metadata": {},
   "source": [
    "## Encrypt Whole Column with One Key ID"
   ]
  },
  {
   "cell_type": "markdown",
   "id": "6970aa9f-be84-4216-83e2-6c597303e079",
   "metadata": {},
   "source": [
    "To encrypt a column, the first step is to create a table.  Here is a simple table with one `text` column that will be encrypted."
   ]
  },
  {
   "cell_type": "code",
   "execution_count": 4,
   "id": "1edd76bd-e030-4294-9317-aa3821b06524",
   "metadata": {},
   "outputs": [
    {
     "data": {
      "text/plain": [
       "[]"
      ]
     },
     "execution_count": 4,
     "metadata": {},
     "output_type": "execute_result"
    }
   ],
   "source": [
    "%%sql\n",
    "CREATE TABLE IF NOT EXISTS my_secrets (\n",
    "  secret text\n",
    ");\n",
    "TRUNCATE my_secrets;  -- so the notebook is repeatable with a new key each time"
   ]
  },
  {
   "cell_type": "markdown",
   "id": "148a9286-9338-4b15-be80-9f06f039f43f",
   "metadata": {},
   "source": [
    "## Create a new Key ID\n",
    "\n",
    "The next step is create a single key id that will be used to encrypt the column with the `pgsodium.create_key()` function.  This new key is used to create a label for the column with a `SECURITY LABEL` command that says which key id should be used to encrypt the table."
   ]
  },
  {
   "cell_type": "code",
   "execution_count": 5,
   "id": "403b1e0c-ba33-42c0-9fd0-26057d8c01f5",
   "metadata": {},
   "outputs": [
    {
     "name": "stdout",
     "output_type": "stream",
     "text": [
      "The security label will be: ENCRYPT WITH KEY ID 1cfaecf3-c2dc-483a-96c9-8eb98e8743a5\n"
     ]
    }
   ],
   "source": [
    "key = %sql SELECT * FROM pgsodium.create_key();\n",
    "key = key[0][0]\n",
    "label = 'ENCRYPT WITH KEY ID ' + str(key)\n",
    "print('The security label will be:', label)"
   ]
  },
  {
   "cell_type": "markdown",
   "id": "5b9d17c1-b47c-45a3-88d3-70cbca23f44d",
   "metadata": {
    "tags": []
   },
   "source": [
    "## Label a column\n",
    "\n",
    "Now apply that label to the column:"
   ]
  },
  {
   "cell_type": "code",
   "execution_count": 6,
   "id": "d43cfe59-67af-4fd8-89a4-797fa1c53541",
   "metadata": {
    "tags": []
   },
   "outputs": [
    {
     "data": {
      "text/plain": [
       "[]"
      ]
     },
     "execution_count": 6,
     "metadata": {},
     "output_type": "execute_result"
    }
   ],
   "source": [
    "%%sql \n",
    "SECURITY LABEL FOR pgsodium ON COLUMN my_secrets.secret IS :label;"
   ]
  },
  {
   "cell_type": "markdown",
   "id": "9e000741-4ab0-4f85-aced-d2fff7903cfb",
   "metadata": {},
   "source": [
    "## Insert test data\n",
    "\n",
    "Here are some test rows for the table.  Note that the inserted secret values are *plaintext*."
   ]
  },
  {
   "cell_type": "code",
   "execution_count": 7,
   "id": "ef730544-a2e6-40e4-b817-dc20993b2eb6",
   "metadata": {},
   "outputs": [
    {
     "data": {
      "text/plain": [
       "[]"
      ]
     },
     "execution_count": 7,
     "metadata": {},
     "output_type": "execute_result"
    }
   ],
   "source": [
    "%%sql\n",
    "INSERT INTO my_secrets (secret) VALUES ('sekert1'), ('1234567'), ('9999');"
   ]
  },
  {
   "cell_type": "markdown",
   "id": "7532fec8-a907-4d20-9608-25fd3473de44",
   "metadata": {},
   "source": [
    "## How Secrets are Stored\n",
    "\n",
    "Now that there are some secrets in the table, selecting on the table will show that the data is stored in an authenticated encrypted form.  The \"signature\" for authenticated the secret is appended to the value, which is why each value is 32 bytes longer."
   ]
  },
  {
   "cell_type": "code",
   "execution_count": 8,
   "id": "02a5f650-cec9-4cd7-a155-e7746e1a19d5",
   "metadata": {
    "tags": []
   },
   "outputs": [
    {
     "data": {
      "text/html": [
       "<table>\n",
       "    <tr>\n",
       "        <th>secret</th>\n",
       "    </tr>\n",
       "    <tr>\n",
       "        <td>27KzhM6v2qg6UjCHXDfdXirDEKTbpXEUsGnEvgkSPfsc5PnDiwau</td>\n",
       "    </tr>\n",
       "    <tr>\n",
       "        <td>/10jpUIdj54uLgvBL0cSlCNmXdV5I5HvvsPLD2Hbin7cdxvWg1Mc</td>\n",
       "    </tr>\n",
       "    <tr>\n",
       "        <td>C1hQcfwVa/mIYf0udv/tMegOoPuBdkKqb0/K9USLgutJ1Whg</td>\n",
       "    </tr>\n",
       "</table>"
      ],
      "text/plain": [
       "[('27KzhM6v2qg6UjCHXDfdXirDEKTbpXEUsGnEvgkSPfsc5PnDiwau',),\n",
       " ('/10jpUIdj54uLgvBL0cSlCNmXdV5I5HvvsPLD2Hbin7cdxvWg1Mc',),\n",
       " ('C1hQcfwVa/mIYf0udv/tMegOoPuBdkKqb0/K9USLgutJ1Whg',)]"
      ]
     },
     "execution_count": 8,
     "metadata": {},
     "output_type": "execute_result"
    }
   ],
   "source": [
    "%%sql\n",
    "SELECT * FROM my_secrets;"
   ]
  },
  {
   "cell_type": "markdown",
   "id": "97785377-aad3-4d63-95c0-f7eb3d6d872d",
   "metadata": {},
   "source": [
    "## Accessing Decrypted Values\n",
    "\n",
    "When a column is labled with TCE using `SECURITY LABEL`, pgsodium dynamically generate a view that can decrypt rows on the fly.  By default this view is named `decrypted_<table_name>` for the table with any labeled columns."
   ]
  },
  {
   "cell_type": "code",
   "execution_count": 9,
   "id": "efd140e5-6a8a-4a0c-aa16-06a4ce38725f",
   "metadata": {},
   "outputs": [
    {
     "data": {
      "text/html": [
       "<table>\n",
       "    <tr>\n",
       "        <th>secret</th>\n",
       "        <th>decrypted_secret</th>\n",
       "    </tr>\n",
       "    <tr>\n",
       "        <td>27KzhM6v2qg6UjCHXDfdXirDEKTbpXEUsGnEvgkSPfsc5PnDiwau</td>\n",
       "        <td>sekert1</td>\n",
       "    </tr>\n",
       "    <tr>\n",
       "        <td>/10jpUIdj54uLgvBL0cSlCNmXdV5I5HvvsPLD2Hbin7cdxvWg1Mc</td>\n",
       "        <td>1234567</td>\n",
       "    </tr>\n",
       "    <tr>\n",
       "        <td>C1hQcfwVa/mIYf0udv/tMegOoPuBdkKqb0/K9USLgutJ1Whg</td>\n",
       "        <td>9999</td>\n",
       "    </tr>\n",
       "</table>"
      ],
      "text/plain": [
       "[('27KzhM6v2qg6UjCHXDfdXirDEKTbpXEUsGnEvgkSPfsc5PnDiwau', 'sekert1'),\n",
       " ('/10jpUIdj54uLgvBL0cSlCNmXdV5I5HvvsPLD2Hbin7cdxvWg1Mc', '1234567'),\n",
       " ('C1hQcfwVa/mIYf0udv/tMegOoPuBdkKqb0/K9USLgutJ1Whg', '9999')]"
      ]
     },
     "execution_count": 9,
     "metadata": {},
     "output_type": "execute_result"
    }
   ],
   "source": [
    "%%sql\n",
    "SELECT * FROM decrypted_my_secrets;"
   ]
  }
 ],
 "metadata": {
  "kernelspec": {
   "display_name": "Python 3 (ipykernel)",
   "language": "python",
   "name": "python3"
  },
  "language_info": {
   "codemirror_mode": {
    "name": "ipython",
    "version": 3
   },
   "file_extension": ".py",
   "mimetype": "text/x-python",
   "name": "python",
   "nbconvert_exporter": "python",
   "pygments_lexer": "ipython3",
   "version": "3.9.2"
  }
 },
 "nbformat": 4,
 "nbformat_minor": 5
}
