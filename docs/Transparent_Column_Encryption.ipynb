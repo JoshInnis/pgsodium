{
 "cells": [
  {
   "cell_type": "markdown",
   "id": "6d1c7394-6898-4552-91d2-7bf00c3b6348",
   "metadata": {},
   "source": [
    "# Transparent Column Encryption"
   ]
  },
  {
   "cell_type": "markdown",
   "id": "9a63fee6-388b-4a4b-a15e-2af094f247b5",
   "metadata": {},
   "source": [
    "Transparent Column Encryption (TCE) lets you encrypt a column for storage to disk.  This pattern is often called \"Encryption at Rest\".  The column is stored encrypted in the postgres database files, as well as log streams and database dumps. TCE uses [Server Key Management]() managed keys by ID.  "
   ]
  },
  {
   "cell_type": "code",
   "execution_count": 1,
   "id": "fd1f049d-1112-4398-91a7-b37be8157fc0",
   "metadata": {
    "tags": []
   },
   "outputs": [],
   "source": [
    "%load_ext sql"
   ]
  },
  {
   "cell_type": "code",
   "execution_count": 2,
   "id": "79e2bbc3-987e-4ca8-a1f3-99f2cb080e77",
   "metadata": {
    "tags": []
   },
   "outputs": [],
   "source": [
    "%config SqlMagic.feedback=False\n",
    "%config SqlMagic.displaycon=False\n",
    "%sql postgresql://postgres@/"
   ]
  },
  {
   "cell_type": "markdown",
   "id": "a67895d2-b601-4003-8f52-fcd561e043e2",
   "metadata": {},
   "source": [
    "To use TCE, first create the extension:"
   ]
  },
  {
   "cell_type": "code",
   "execution_count": 3,
   "id": "d1a813fe-5114-432c-9be8-4cd8eb526f30",
   "metadata": {},
   "outputs": [
    {
     "data": {
      "text/plain": [
       "[]"
      ]
     },
     "execution_count": 3,
     "metadata": {},
     "output_type": "execute_result"
    }
   ],
   "source": [
    "%sql CREATE EXTENSION IF NOT EXISTS pgsodium;"
   ]
  },
  {
   "cell_type": "markdown",
   "id": "7930afdd-4149-4f58-ae55-e6a1d5611935",
   "metadata": {},
   "source": [
    "## Encrypt Whole Column with One Key ID"
   ]
  },
  {
   "cell_type": "code",
   "execution_count": 18,
   "id": "1edd76bd-e030-4294-9317-aa3821b06524",
   "metadata": {},
   "outputs": [
    {
     "data": {
      "text/plain": [
       "[]"
      ]
     },
     "execution_count": 18,
     "metadata": {},
     "output_type": "execute_result"
    }
   ],
   "source": [
    "%%sql\n",
    "CREATE TABLE IF NOT EXISTS my_secrets (\n",
    "  secret text\n",
    ");\n",
    "TRUNCATE my_secrets;  -- so the notebook is repeatable with a new key each time"
   ]
  },
  {
   "cell_type": "code",
   "execution_count": 19,
   "id": "403b1e0c-ba33-42c0-9fd0-26057d8c01f5",
   "metadata": {},
   "outputs": [
    {
     "name": "stdout",
     "output_type": "stream",
     "text": [
      "The security label will be:  ENCRYPT WITH KEY ID e5e6de31-8a2a-49ca-a2eb-12bd5d218922\n"
     ]
    }
   ],
   "source": [
    "key = %sql SELECT * FROM pgsodium.create_key();\n",
    "key = key[0][0]\n",
    "label = 'ENCRYPT WITH KEY ID ' + str(key)\n",
    "print('The security label will be: ', label)"
   ]
  },
  {
   "cell_type": "code",
   "execution_count": 20,
   "id": "d43cfe59-67af-4fd8-89a4-797fa1c53541",
   "metadata": {
    "tags": []
   },
   "outputs": [
    {
     "data": {
      "text/plain": [
       "[]"
      ]
     },
     "execution_count": 20,
     "metadata": {},
     "output_type": "execute_result"
    }
   ],
   "source": [
    "%%sql \n",
    "SECURITY LABEL FOR pgsodium ON COLUMN my_secrets.secret IS :label;"
   ]
  },
  {
   "cell_type": "code",
   "execution_count": 21,
   "id": "ef730544-a2e6-40e4-b817-dc20993b2eb6",
   "metadata": {},
   "outputs": [
    {
     "data": {
      "text/plain": [
       "[]"
      ]
     },
     "execution_count": 21,
     "metadata": {},
     "output_type": "execute_result"
    }
   ],
   "source": [
    "%%sql\n",
    "INSERT INTO my_secrets (secret) VALUES ('sekert1'), ('1234567'), ('9999');"
   ]
  },
  {
   "cell_type": "code",
   "execution_count": 22,
   "id": "02a5f650-cec9-4cd7-a155-e7746e1a19d5",
   "metadata": {},
   "outputs": [
    {
     "data": {
      "text/html": [
       "<table>\n",
       "    <tr>\n",
       "        <th>secret</th>\n",
       "    </tr>\n",
       "    <tr>\n",
       "        <td>5Zzj/xmBZBLRBZQAOXMC4zuxMLqVH+GlsPH3eFZxzO1hx9eg2sx4</td>\n",
       "    </tr>\n",
       "    <tr>\n",
       "        <td>EVjCD2qJTDKMi58/8DGiaOZrFWuqFpznA17yKBJUQT9IAEMQvlT7</td>\n",
       "    </tr>\n",
       "    <tr>\n",
       "        <td>Jc1/2ONBhpsq5FSntN3ZmXXDMNmOAH5VzLVRCjKrk5KaqUk0</td>\n",
       "    </tr>\n",
       "</table>"
      ],
      "text/plain": [
       "[('5Zzj/xmBZBLRBZQAOXMC4zuxMLqVH+GlsPH3eFZxzO1hx9eg2sx4',),\n",
       " ('EVjCD2qJTDKMi58/8DGiaOZrFWuqFpznA17yKBJUQT9IAEMQvlT7',),\n",
       " ('Jc1/2ONBhpsq5FSntN3ZmXXDMNmOAH5VzLVRCjKrk5KaqUk0',)]"
      ]
     },
     "execution_count": 22,
     "metadata": {},
     "output_type": "execute_result"
    }
   ],
   "source": [
    "%%sql\n",
    "SELECT * FROM my_secrets;"
   ]
  },
  {
   "cell_type": "code",
   "execution_count": 23,
   "id": "efd140e5-6a8a-4a0c-aa16-06a4ce38725f",
   "metadata": {},
   "outputs": [
    {
     "data": {
      "text/html": [
       "<table>\n",
       "    <tr>\n",
       "        <th>secret</th>\n",
       "        <th>decrypted_secret</th>\n",
       "    </tr>\n",
       "    <tr>\n",
       "        <td>5Zzj/xmBZBLRBZQAOXMC4zuxMLqVH+GlsPH3eFZxzO1hx9eg2sx4</td>\n",
       "        <td>sekert1</td>\n",
       "    </tr>\n",
       "    <tr>\n",
       "        <td>EVjCD2qJTDKMi58/8DGiaOZrFWuqFpznA17yKBJUQT9IAEMQvlT7</td>\n",
       "        <td>1234567</td>\n",
       "    </tr>\n",
       "    <tr>\n",
       "        <td>Jc1/2ONBhpsq5FSntN3ZmXXDMNmOAH5VzLVRCjKrk5KaqUk0</td>\n",
       "        <td>9999</td>\n",
       "    </tr>\n",
       "</table>"
      ],
      "text/plain": [
       "[('5Zzj/xmBZBLRBZQAOXMC4zuxMLqVH+GlsPH3eFZxzO1hx9eg2sx4', 'sekert1'),\n",
       " ('EVjCD2qJTDKMi58/8DGiaOZrFWuqFpznA17yKBJUQT9IAEMQvlT7', '1234567'),\n",
       " ('Jc1/2ONBhpsq5FSntN3ZmXXDMNmOAH5VzLVRCjKrk5KaqUk0', '9999')]"
      ]
     },
     "execution_count": 23,
     "metadata": {},
     "output_type": "execute_result"
    }
   ],
   "source": [
    "%%sql\n",
    "SELECT * FROM decrypted_my_secrets;"
   ]
  }
 ],
 "metadata": {
  "kernelspec": {
   "display_name": "Python 3 (ipykernel)",
   "language": "python",
   "name": "python3"
  },
  "language_info": {
   "codemirror_mode": {
    "name": "ipython",
    "version": 3
   },
   "file_extension": ".py",
   "mimetype": "text/x-python",
   "name": "python",
   "nbconvert_exporter": "python",
   "pygments_lexer": "ipython3",
   "version": "3.9.2"
  }
 },
 "nbformat": 4,
 "nbformat_minor": 5
}
